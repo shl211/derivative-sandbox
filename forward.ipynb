{
 "cells": [
  {
   "cell_type": "markdown",
   "id": "9116d636",
   "metadata": {},
   "source": [
    "# Forward Contract\n",
    "\n",
    "Assumptions for market participants:\n",
    "- No transaction costs during trades\n",
    "- Same tax rates on all net trading profits\n",
    "- Borrow money at same risk-free rate of interest as they can lend\n",
    "- Take advantage of arbitrage opportunities as they occur\n",
    "\n",
    "The following notation is used:\n",
    "- $T$: Time until delivery date of contract (years)\n",
    "- $S_0$: Spot price of asset underlying the contract today\n",
    "- $F_0$: Forward price today\n",
    "- $r$: Zero-coupon risk-free rate of interest per annum, continuous compounding"
   ]
  },
  {
   "cell_type": "code",
   "execution_count": 11,
   "id": "9ae3782a",
   "metadata": {},
   "outputs": [],
   "source": [
    "import numpy as np\n",
    "import pandas as pd\n",
    "import math\n",
    "import interest_rate"
   ]
  },
  {
   "cell_type": "markdown",
   "id": "7ff73ad5",
   "metadata": {},
   "source": [
    "### Basic\n",
    "\n",
    "Consider a long forward contract to purchase a non-dividend-paying stock in 3 months. Assume the current stock price is \\$40 and the 3-month risk-free interest rate is 5\\% per annum. (Note forward contracts on individual stock do not usually happen in practice). \n",
    "\n",
    "This can me modelled as\n",
    "\n",
    "$$\n",
    "F_0 = S_0 e^{rT}\n",
    "$$"
   ]
  },
  {
   "cell_type": "code",
   "execution_count": null,
   "id": "a9d515d9",
   "metadata": {},
   "outputs": [
    {
     "name": "stdout",
     "output_type": "stream",
     "text": [
      "Spot price: $40.00\n",
      "Risk Free Interest: 5.00% per annum\n",
      "Time: $0.25 Yrs\n",
      "===================================\n",
      "Future price: $40.50\n"
     ]
    }
   ],
   "source": [
    "spot_price_today = 40\n",
    "risk_free_interest_per_annum = 0.05\n",
    "time_years = 3 / 12\n",
    "\n",
    "future_price_today = spot_price_today * math.exp(risk_free_interest_per_annum * time_years)\n",
    "print(f\"Spot price: ${spot_price_today:.2f}\")\n",
    "print(f\"Risk Free Interest: {risk_free_interest_per_annum * 100:.2f}% per annum\")\n",
    "print(f\"Time: ${time_years:.2f} Yrs\")\n",
    "print(\"===================================\")\n",
    "print(f\"Future price: ${future_price_today:.2f}\")"
   ]
  },
  {
   "cell_type": "markdown",
   "id": "27c149da",
   "metadata": {},
   "source": [
    "### Predictable Cash Income\n",
    "\n",
    "Now consider a forward contract on an investment asset that provides a predictable cash income to the holder. This is often the case for fixed-income derivatives, where the coupon payments are factored into the coupon price. Therefore, if an investment asset will provide income with a present value of $I$ during the contract life, then\n",
    "\n",
    "$$\n",
    "F_0 = (S_0 - I) e ^ {rT}\n",
    "$$\n",
    "\n",
    "Example: consider long forward contract to purchase coupon-bearing bond whose current price is \\$900. Contract matures in 9 months, and expecting a coupon payment of \\$40 after 4 months. Assume 4-month and 9-month risk-free interest rates are 3\\% and 4\\% per annum respectively. "
   ]
  },
  {
   "cell_type": "code",
   "execution_count": null,
   "id": "af123915",
   "metadata": {},
   "outputs": [
    {
     "name": "stdout",
     "output_type": "stream",
     "text": [
      "Future price: $886.60\n"
     ]
    }
   ],
   "source": [
    "coupon = 40\n",
    "discount_coupon = 40 * math.exp(- 0.03 * 4/12)\n",
    "\n",
    "bond_spot_price = 900\n",
    "base_spot_price = bond_spot_price - discount_coupon\n",
    "\n",
    "future_price = base_spot_price * math.exp(0.04 * 9 / 12)\n",
    "print(f\"Future price: ${future_price:.2f}\")"
   ]
  },
  {
   "cell_type": "markdown",
   "id": "6fc026e6",
   "metadata": {},
   "source": [
    "### Known Yield\n",
    "\n",
    "Now consider a situation where the underlying asset has a known yield rather than known cash income. Rates are usually specified on an annual basis, but calculations on continuous interest rates are preferred. \n",
    "\n",
    "For a known average yield rate $q$ (which for us will be the continuous rate but in reality rates vary over time), the yield received at time $T$ will be $S_0^T = S_0 e^{qT}$. A forward buyer would not receive the yield, hence \n",
    "\n",
    "$$\n",
    "F_0 = S_0 e^{(r-q)T}\n",
    "$$\n",
    "\n",
    "Example: consider a 6-month forward contract on an asset that is expected to provide income equal to 2\\% of the asset price once during a 6-month period. Risk-free interest rate with continuous compoundiung is 10\\% per annum. Yield is 4\\% per annum with semiannual compounding. Asset price is \\$25."
   ]
  },
  {
   "cell_type": "code",
   "execution_count": 22,
   "id": "0ceee967",
   "metadata": {},
   "outputs": [
    {
     "name": "stdout",
     "output_type": "stream",
     "text": [
      "Future price: $25.77\n"
     ]
    }
   ],
   "source": [
    "spot_price = 25\n",
    "r_interest = 0.1\n",
    "yield_rate = interest_rate.annual_to_continuous_compounding(0.04,2)\n",
    "time_yr = 1 / 2\n",
    "\n",
    "forward_price = spot_price * math.exp((r_interest - yield_rate) * time_yr) \n",
    "print(f\"Future price: ${forward_price:.2f}\")"
   ]
  },
  {
   "cell_type": "markdown",
   "id": "c1963ebf",
   "metadata": {},
   "source": [
    "### Valuing Forward Contracts\n",
    "\n",
    "When contracts are first bought, they are valued at close to zero. This changes as it approaches the delivery date. Let $K$ be delivery price of contract, $T$ is delivery date from today, and $r$ is the $T$-year risk-free interest rate. $F_0$ is forward price if negotiated today, while $f$ is the value of the forward contract today.\n",
    "\n",
    "At start of contract, delivery price $K$ is set equal to forward price at the time. $f$ is zero at this time. $K$ will stay constant as time passes, but forward price can change, leading to change in value of $f$.\n",
    "\n",
    "For long forward contracts:\n",
    "\n",
    "$$\n",
    "f = (F_0 - K) e ^ {-rT}\n",
    "$$\n",
    "\n",
    "$F_0 - K$ is obvious, coming from difference in future price at this point in time versus the delivery price. This must then be discounted for the interest rate, leading to the exponential term.\n",
    "\n",
    "Example: A long forward contract on a non-dividend-paying stock was entered into some time ago. It currently has 6 months to maturity. The risk-free rate of interest (with continuous compounding) is 10% per annum, the stock price is $25, and the delivery price is $24.\n"
   ]
  },
  {
   "cell_type": "code",
   "execution_count": 23,
   "id": "a9044c68",
   "metadata": {},
   "outputs": [
    {
     "name": "stdout",
     "output_type": "stream",
     "text": [
      "Future contract value: $2.17\n"
     ]
    }
   ],
   "source": [
    "spot_price = 25\n",
    "delivery_price = 24\n",
    "rate = 0.1\n",
    "time_y = 1/2\n",
    "forward_price_today = spot_price * math.exp(rate * time_y)\n",
    "contract_value = (forward_price_today - delivery_price) * math.exp(- rate * time_y)\n",
    "print(f\"Future contract value: ${contract_value:.2f}\")"
   ]
  }
 ],
 "metadata": {
  "kernelspec": {
   "display_name": "3.11.10",
   "language": "python",
   "name": "python3"
  },
  "language_info": {
   "codemirror_mode": {
    "name": "ipython",
    "version": 3
   },
   "file_extension": ".py",
   "mimetype": "text/x-python",
   "name": "python",
   "nbconvert_exporter": "python",
   "pygments_lexer": "ipython3",
   "version": "3.11.10"
  }
 },
 "nbformat": 4,
 "nbformat_minor": 5
}
